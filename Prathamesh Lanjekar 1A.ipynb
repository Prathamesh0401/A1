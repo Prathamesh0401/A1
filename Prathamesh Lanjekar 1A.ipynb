{
 "cells": [
  {
   "cell_type": "code",
   "execution_count": 1,
   "id": "e972c011-9c94-4d4e-b210-dc14710ca9ac",
   "metadata": {},
   "outputs": [
    {
     "name": "stdout",
     "output_type": "stream",
     "text": [
      "my name is prathamesh\n"
     ]
    }
   ],
   "source": [
    "print('my name is prathamesh')"
   ]
  },
  {
   "cell_type": "code",
   "execution_count": 3,
   "id": "ac690117-2f45-4b43-adb6-37868ee62e60",
   "metadata": {},
   "outputs": [
    {
     "name": "stdout",
     "output_type": "stream",
     "text": [
      "MY NAME IS PRATHAMESH\n"
     ]
    }
   ],
   "source": [
    "print('MY NAME IS PRATHAMESH')"
   ]
  },
  {
   "cell_type": "code",
   "execution_count": 4,
   "id": "a284f9c7-f5ca-44ea-87f6-afa2277e2e28",
   "metadata": {},
   "outputs": [
    {
     "name": "stdout",
     "output_type": "stream",
     "text": [
      "Hello! My name is Prathamesh\n"
     ]
    }
   ],
   "source": [
    "print('Hello! My name is Prathamesh')"
   ]
  },
  {
   "cell_type": "code",
   "execution_count": 15,
   "id": "d8694816-39fb-4ba7-a261-5e0bdd09ca9f",
   "metadata": {},
   "outputs": [
    {
     "name": "stdout",
     "output_type": "stream",
     "text": [
      "15\n"
     ]
    }
   ],
   "source": [
    "a=10\n",
    "b=5\n",
    "print(a+b)"
   ]
  },
  {
   "cell_type": "code",
   "execution_count": 20,
   "id": "0a18b271-d8f6-4adf-abb6-76d0fbf413b3",
   "metadata": {},
   "outputs": [
    {
     "name": "stdout",
     "output_type": "stream",
     "text": [
      "50\n"
     ]
    }
   ],
   "source": [
    "a=10\n",
    "b=5\n",
    "print(a*b)"
   ]
  },
  {
   "cell_type": "code",
   "execution_count": null,
   "id": "efa311c3-671b-43e1-be05-7b9191e120f1",
   "metadata": {},
   "outputs": [],
   "source": []
  }
 ],
 "metadata": {
  "kernelspec": {
   "display_name": "Python 3 (ipykernel)",
   "language": "python",
   "name": "python3"
  },
  "language_info": {
   "codemirror_mode": {
    "name": "ipython",
    "version": 3
   },
   "file_extension": ".py",
   "mimetype": "text/x-python",
   "name": "python",
   "nbconvert_exporter": "python",
   "pygments_lexer": "ipython3",
   "version": "3.11.7"
  }
 },
 "nbformat": 4,
 "nbformat_minor": 5
}
